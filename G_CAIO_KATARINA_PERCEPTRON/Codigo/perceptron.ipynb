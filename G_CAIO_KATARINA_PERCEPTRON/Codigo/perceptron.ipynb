{
 "cells": [
  {
   "cell_type": "markdown",
   "metadata": {},
   "source": [
    "# Fundamentos do Perceptron: Uma Abordagem Prática\n",
    "\n",
    "## Sumário\n",
    "1. [Introdução ao Perceptron](#intro)\n",
    "2. [Problemas Lógicos OR e AND](#or-and)\n",
    "3. [O Problema XOR e suas Implicações](#xor)\n",
    "\n",
    "Este notebook apresenta uma introdução detalhada ao Perceptron, um dos primeiros modelos de redes neurais artificiais."
   ]
  },
  {
   "cell_type": "markdown",
   "metadata": {},
   "source": [
    "## 1. Introdução ao Perceptron <a id='intro'></a>\n",
    "\n",
    "### 1.1 O que é um Perceptron?\n",
    "\n",
    "O Perceptron é um modelo matemático de um neurônio biológico, proposto por Frank Rosenblatt em 1958. É a forma mais simples de uma rede neural artificial que pode ser usada para classificação binária e serve como bloco fundamental para redes neurais artificiais. Ele simula o comportamento de um neurônio biológico com um modelo computacional simples, sendo a base para redes neurais mais complexas.\n",
    "\n",
    "### 1.2 Estrutura Básica\n",
    "\n",
    "Um Perceptron consiste em:\n",
    "1. Entradas ($x_1, x_2, ..., x_n$)\n",
    "2. Pesos ($w_1, w_2, ..., w_n$)\n",
    "3. Bias ($b$)\n",
    "4. Função de ativação (degrau)\n",
    "\n",
    "primeiro ele recebe as entradas, multiplica cada entrada pelo seu peso correspondente, soma todos os resultados e adiciona o bias e aplica uma função de ativaçao.\n",
    "\n",
    "\n",
    "### 1.3 Fórmulas Matemáticas\n",
    "\n",
    "A saída do Perceptron é calculada da seguinte forma:\n",
    "\n",
    "1. Soma ponderada: $z = \\sum_{i=1}^n w_i x_i + b$\n",
    "2. Função de ativação: $f(z) = \\begin{cases} 1 & \\text{se } z \\geq 0 \\\\ 0 & \\text{se } z < 0 \\end{cases}$\n",
    "\n",
    "### 1.4 Algoritmo de Aprendizagem\n",
    "\n",
    "O algoritmo de treinamento segue os seguintes passos:\n",
    "1. Inicialização dos pesos e bias com valores aleatórios\n",
    "2. Para cada exemplo de treinamento:\n",
    "   - Calcular a saída prevista do perceptron, compara com o valor real e atualiza os pesos se houver erro.\n",
    "   - Atualizar os pesos: $w_i = w_i + \\alpha(y - \\hat{y})x_i$\n",
    "   - Atualizar o bias: $b = b + \\alpha(y - \\hat{y})$\n",
    "\n",
    "onde $\\alpha$ é a taxa de aprendizagem, $y$ é o valor real e $\\hat{y}$ é a previsão."
   ]
  }
 ],
 "metadata": {
  "kernelspec": {
   "display_name": "Python 3",
   "language": "python",
   "name": "python3"
  },
  "language_info": {
   "codemirror_mode": {
    "name": "ipython",
    "version": 3
   },
   "file_extension": ".py",
   "mimetype": "text/x-python",
   "name": "python",
   "nbconvert_exporter": "python",
   "pygments_lexer": "ipython3",
   "version": "3.11.9"
  }
 },
 "nbformat": 4,
 "nbformat_minor": 2
}
